{
 "cells": [
  {
   "cell_type": "markdown",
   "metadata": {},
   "source": [
    "# Supplementary Materials Part 5.5: Tree-based methods.\n",
    "\n",
    "The models here are not covered in IT1244 AT ALL - so everything that is covered here is additional material that I have decided to write myself. In this lesson, we'll be covering decision trees and random forests (and maybe gradient boosting) here. \n",
    "\n",
    "Like all supplementary lessons, these lessons are NOT compulsory. They're merely here to give you a few more ideas to use in your project.\n",
    "\n",
    "With that being said, let's start!"
   ]
  },
  {
   "cell_type": "code",
   "execution_count": 1,
   "metadata": {},
   "outputs": [],
   "source": [
    "import numpy as np\n",
    "import pandas as pd \n",
    "\n",
    "water = pd.read_csv(\"data/water_cleaned.csv\", index_col =\"Unnamed: 0\")\n",
    "\n",
    "# Let's split the data into X and y \n",
    "X = water.drop(\"Potability\", axis = 1)\n",
    "y = water[\"Potability\"]\n"
   ]
  },
  {
   "cell_type": "markdown",
   "metadata": {},
   "source": [
    "### Part 1: Not... initialisation of models?\n",
    "Wow! You mean we're not starting with initialisation? \n",
    "\n",
    "On a serious note though, let's talk about what decision trees are. Decision trees are... essentially glorified if-else statements made by the AI. But these glorified if-else statements are able to give very good predictions (depending on the dataset) by continuously splitting. \n",
    "\n",
    "Now, let's talk about proper details:\n",
    "1. A decision tree recursively partitions the features in the dataset based on the feature values. \n",
    "2. The decision tree partitions the features based on the highest impurity reduction, calculated with some metrics like Gini impurity or entropy.\n",
    "3. The decision tree essentially continues making its decision until the maximum depth or having too few samples in a node.\n",
    "\n",
    "You can take a look at a decision tree diagram right [here](https://static.javatpoint.com/tutorial/machine-learning/images/decision-tree-classification-algorithm.png)!"
   ]
  },
  {
   "cell_type": "markdown",
   "metadata": {},
   "source": [
    "### Part 2: Initialisation of a decision tree\n",
    "Here we go. \n",
    "\n",
    "By this part, you should have learnt how to manipulate data in Pandas (with the other supplementary materials) or with NumPy. \n",
    "\n",
    "As a recap, the workflow of models usually goes like this:\n",
    "1. Find the model from sklearn - it's usually in a separate library\n",
    "2. do a train test split on the data (80/20? 70/30? up to you)\n",
    "3. fit the data onto the training data\n",
    "4. predict the results using the test data \n",
    "5. compare the predictions against the y values of test data\n",
    "\n",
    "How do we apply this for Decision Trees?"
   ]
  },
  {
   "cell_type": "code",
   "execution_count": 2,
   "metadata": {},
   "outputs": [
    {
     "data": {
      "text/plain": [
       "0.5493387589013224"
      ]
     },
     "execution_count": 2,
     "metadata": {},
     "output_type": "execute_result"
    }
   ],
   "source": [
    "from sklearn.tree import DecisionTreeClassifier \n",
    "from sklearn.model_selection import train_test_split\n",
    "from sklearn.metrics import accuracy_score\n",
    "\n",
    "# We will then split the data into different datasets\n",
    "X_train, X_test, y_train, y_test = train_test_split(X, y, test_size=0.3, random_state=42)\n",
    "\n",
    "# Save the model into a variable \n",
    "dtc = DecisionTreeClassifier()\n",
    "\n",
    "# Fit the data onto training data\n",
    "dtc.fit(X_train, y_train)\n",
    "\n",
    "# Predict results using test data\n",
    "predictions = dtc.predict(X_test)\n",
    "\n",
    "# Let's get the accuracy score to see how it does! \n",
    "accuracy = accuracy_score(y_test, predictions)\n",
    "accuracy"
   ]
  },
  {
   "cell_type": "markdown",
   "metadata": {},
   "source": [
    "We are just using accuracy as a metric even though it's not the best. As you can tell, this is doing a lot worse than a logistic regression... that's not good. As always, can we do better?"
   ]
  },
  {
   "cell_type": "markdown",
   "metadata": {},
   "source": [
    "### Part 3: Random Forests\n",
    "Ok, since we have learned about decision trees, let's take it a step up. Can we train a whole ton of decision trees to create a model? \n",
    "\n",
    "We can! This is where we introduce the concept of an ensemble.\n",
    "\n",
    "An ensemble is a collection of models meant to improve the overall performance and reliability of predictions. They combine the predictions of multiple individual models to make more accurate and robust decisions, therefore having better results compared to a single model. \n",
    "\n",
    "There are two ways of creating an ensemble, mainly:\n",
    "1. Bagging - multiple of the same model trained on different subsets of the training data, chosen randomly with replacement. The final prediction is either by averaging for regression tasks, or taking a majority vote for the predictions in the ensemble. \n",
    "2. Boosting - a series of models are trained sequentially, each model focusing on correcting the mistakes made by the previous models. The model after will pay more attention to instances misclassified by earlier models. The final prediction is a weighted combination of the predictions from the previous models. \n",
    "\n",
    "A random forest is an ensemble of decision trees and they are created using bagging (instead of boosting). We will go into boosting later! "
   ]
  },
  {
   "cell_type": "code",
   "execution_count": 4,
   "metadata": {},
   "outputs": [
    {
     "data": {
      "text/plain": [
       "0.6795523906408952"
      ]
     },
     "execution_count": 4,
     "metadata": {},
     "output_type": "execute_result"
    }
   ],
   "source": [
    "from sklearn.ensemble import RandomForestClassifier \n",
    "from sklearn.model_selection import train_test_split\n",
    "from sklearn.metrics import accuracy_score\n",
    "\n",
    "# We will then split the data into different datasets\n",
    "X_train, X_test, y_train, y_test = train_test_split(X, y, test_size=0.3, random_state=42)\n",
    "\n",
    "# Save the model into a variable \n",
    "rfc = RandomForestClassifier()\n",
    "\n",
    "# Fit the data onto training data\n",
    "rfc.fit(X_train, y_train)\n",
    "\n",
    "# Predict results using test data\n",
    "predictions = rfc.predict(X_test)\n",
    "\n",
    "# Let's get the accuracy score to see how it does! \n",
    "accuracy = accuracy_score(y_test, predictions)\n",
    "accuracy"
   ]
  },
  {
   "cell_type": "markdown",
   "metadata": {},
   "source": [
    "That's waaaaaaaaaaaay better score than just 1 decision tree! The random forests model really helps with the increase in accuracy. As mentioned, we are just using accuracy as a metric for now even though it's not the best. "
   ]
  },
  {
   "cell_type": "markdown",
   "metadata": {},
   "source": [
    "### Part 4: Gradient Boosting\n",
    "As mentioned above, there is another kind of ensemble model called boosting! I've already given the explanation, so let's just see the implementation. For the most part, everything's the same, but you have your choice of downloading different gradient boosting libraries to do gradient boosting!\n",
    "\n",
    "For me personally, I love using XGBoost - but for this lesson we'll use sklearn's GradientBoostingClassifier as a start. "
   ]
  },
  {
   "cell_type": "code",
   "execution_count": 5,
   "metadata": {},
   "outputs": [
    {
     "data": {
      "text/plain": [
       "0.6602238046795524"
      ]
     },
     "execution_count": 5,
     "metadata": {},
     "output_type": "execute_result"
    }
   ],
   "source": [
    "from sklearn.ensemble import GradientBoostingClassifier\n",
    "from sklearn.model_selection import train_test_split\n",
    "from sklearn.metrics import accuracy_score\n",
    "\n",
    "# We will then split the data into different datasets\n",
    "X_train, X_test, y_train, y_test = train_test_split(X, y, test_size=0.3, random_state=42)\n",
    "\n",
    "# Save the model into a variable \n",
    "gboost = GradientBoostingClassifier()\n",
    "\n",
    "# Fit the data onto training data\n",
    "gboost.fit(X_train, y_train)\n",
    "\n",
    "# Predict results using test data\n",
    "predictions = gboost.predict(X_test)\n",
    "\n",
    "# Let's get the accuracy score to see how it does! \n",
    "accuracy = accuracy_score(y_test, predictions)\n",
    "accuracy"
   ]
  },
  {
   "cell_type": "markdown",
   "metadata": {},
   "source": [
    "Still better than a basic decision tree, but we realise that the gradient boosting classifier is doing slightly worse than the random forest classifier. If you change this with another gradient boosting method, however, you might be able to get much better results (accuracy-wise)."
   ]
  },
  {
   "cell_type": "markdown",
   "metadata": {},
   "source": [
    "### Part 5: A new metric\n",
    "We've covered the classification report last lesson. However, there is another metric that we can use for classification called the ROCAUC (Receiver Operating Characteristic Area Under the Curve).\n",
    "\n",
    "What is ROCAUC? Essentially, we are just plotting the false positive rate of our predictions on the x-axis and the true positive rate on the y-axis.\n",
    "\n",
    "ROCAUC should be used when:\n",
    "1. You care equally about positive and negative classes.\n",
    "2. Your data is relatively balanced. \n",
    "\n",
    "There is more to ROCAUC, but you can also add this as a metric. You probably should think really hard in terms of which metric you'd like to use. "
   ]
  },
  {
   "cell_type": "code",
   "execution_count": 8,
   "metadata": {},
   "outputs": [
    {
     "data": {
      "image/png": "[encoded data removed]",
      "text/plain": [
       "<Figure size 640x480 with 1 Axes>"
      ]
     },
     "metadata": {},
     "output_type": "display_data"
    }
   ],
   "source": [
    "import matplotlib.pyplot as plt\n",
    "\n",
    "# Credits: My own IT1244 project... search my github for more LOL \n",
    "# If you'd like to use this on your project, I think you might have to credit my code so please do!\n",
    "def graphing(X_test, model, name = 'model'):\n",
    "\n",
    "    y_pred = model.predict_proba(X_test)[:, 1]\n",
    "    thresholds = np.linspace(0,1,101)\n",
    "\n",
    "    scores = []\n",
    "\n",
    "    for t in thresholds:\n",
    "        actual_positive = (y_test == 1)\n",
    "        actual_negative = (y_test == 0)\n",
    "\n",
    "        pred_positive = (y_pred >= t)\n",
    "        pred_negative = (y_pred < t)\n",
    "\n",
    "        tp = (actual_positive & pred_positive).sum()\n",
    "        tn = (actual_negative & pred_negative).sum()\n",
    "        fp = (pred_positive & actual_negative).sum()\n",
    "        fn = (pred_negative & actual_positive).sum()\n",
    "\n",
    "        scores.append((t, tp, fp, fn, tn))\n",
    "    \n",
    "    columns = ['threshold', 'tp', 'fp', 'fn', 'tn']\n",
    "    scores_data = pd.DataFrame(scores, columns = columns)\n",
    "    scores_data['tpr'] = scores_data.tp / (scores_data.tp + scores_data.fn)\n",
    "    scores_data['fpr'] = scores_data.fp / (scores_data.fp + scores_data.tn)\n",
    "    \n",
    "    plt.plot(scores_data.fpr, scores_data.tpr, label='Model')\n",
    "    plt.title(\"ROC AUC curve of \" + name)\n",
    "\n",
    "# Let's try this with random forests!\n",
    "graphing(X_test, rfc, name = 'Random Forest Classifier')"
   ]
  },
  {
   "cell_type": "markdown",
   "metadata": {},
   "source": [
    "### Part 6: Hyperparameter Tuning\n",
    "Hyperparameter Tuning matters for tree-based models a LOT more than some of the other models that we have covered in our previous lesson. I'd not like to repeat myself, but do take a look at some of the documentation for the hyperparameters that you can tune for the different models, like the [Random Forest Classifier](https://scikit-learn.org/stable/modules/generated/sklearn.ensemble.RandomForestClassifier.html)."
   ]
  },
  {
   "cell_type": "markdown",
   "metadata": {},
   "source": [
    "### Part 7: Further reading\n",
    "\n",
    "Here's some additional reading material for you:\n",
    "1. [Using some of these metrics](https://neptune.ai/blog/f1-score-accuracy-roc-auc-pr-auc) - I think neptune.ai does this really well. \n",
    "2. [Finding another way to tune your hyperparameters? Try Optuna!](https://www.kaggle.com/code/corochann/optuna-tutorial-for-hyperparameter-optimization)\n",
    "\n",
    "We're almost at the end! Just one more thing to go :) "
   ]
  }
 ],
 "metadata": {
  "kernelspec": {
   "display_name": "Python 3",
   "language": "python",
   "name": "python3"
  },
  "language_info": {
   "codemirror_mode": {
    "name": "ipython",
    "version": 3
   },
   "file_extension": ".py",
   "mimetype": "text/x-python",
   "name": "python",
   "nbconvert_exporter": "python",
   "pygments_lexer": "ipython3",
   "version": "3.11.1"
  },
  "orig_nbformat": 4
 },
 "nbformat": 4,
 "nbformat_minor": 2
}
