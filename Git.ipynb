{
 "cells": [
  {
   "cell_type": "markdown",
   "metadata": {},
   "source": [
    "# Introduction\n",
    "Hi everyone! This is meant to be supplementary material to the IT1244 course. Obviously there will be some overlap to the main lectures - please watch those - but these materials are more for you to learn how to implement your project (and eventually, real life projects if you're going that route).\n",
    "\n",
    "### Why are you doing this?\n",
    "I realise that people oftentimes do not know what they're doing in IT1244, and they require additional help. So this is something that I have decided to invest in.\n",
    "\n",
    "In a way, this is also me trying to show off my Data Science knowledge to employers. It's a win-win. (Not really xd) \n",
    "\n",
    "### Are these materials compulsory to do? Will you go through these in class?\n",
    "No - they are not. I will also not go through these in class, but I will be willing to discuss anything from these supplementary materials if needed be :)\n",
    "\n",
    "### Do I have to do this in order?\n",
    "For the most part, yes. These assignments presume the previous assignment(s) and the knowledge imparted from these. I assure you however, that I will make it as simple as possible.\n",
    "\n",
    "### How can I contribute to this repo?\n",
    "1. Star it! It gives me more visibility and it also allows easy access for you.\n",
    "2. If you'd like to add to the repo, you can send me a message on my [Telegram @foodfoundations](https://t.me/foodfoundations) (might change) or you can always contact me on [Linkedin (will never change)](https://www.linkedin.com/in/kwang-yang-chia/). We can discuss before you create any content!\n",
    "3. Give feedback to prof about my efforts so that this could be integrated into the IT1244 curriculum itself :p \n",
    "\n",
    "### Any other questions? You know where to find me. Happy Learning!"
   ]
  },
  {
   "cell_type": "markdown",
   "metadata": {},
   "source": []
  }
 ],
 "metadata": {
  "language_info": {
   "name": "python"
  },
  "orig_nbformat": 4
 },
 "nbformat": 4,
 "nbformat_minor": 2
}
