{
 "cells": [
  {
   "cell_type": "markdown",
   "metadata": {},
   "source": [
    "# Supplementary Materials Part 4: Linear Regression\n",
    "\n",
    "We will tackle the second ML model learnt in IT1244 called Linear Regression. This is essential for regression problems, which are different from classification and clustering problems."
   ]
  },
  {
   "cell_type": "markdown",
   "metadata": {},
   "source": [
    "## Part 1: Initialisation of models\n",
    "\n",
    "By this part, you should have learnt how to manipulate data in Pandas (with the other supplementary materials) or with NumPy. \n",
    "\n",
    "As a recap, the workflow of models usually goes like this:\n",
    "1. Find the model from sklearn - it's usually in a separate library\n",
    "2. do a train test split on the data (80/20? 70/30? up to you)\n",
    "3. fit the data onto the training data\n",
    "4. predict the results using the test data \n",
    "5. compare the predictions against the y values of test data\n",
    "\n",
    "How do we apply this for Linear Regression?"
   ]
  },
  {
   "cell_type": "code",
   "execution_count": null,
   "metadata": {},
   "outputs": [],
   "source": [
    "# Linear Regression is taken from sklearn.linear_model\n",
    "from sklearn.linear_model import LinearRegression\n",
    "\n",
    "# We assume the train test split has already been done, but it is actually done beforehand on top\n",
    "\n",
    "# Save the model into a variable \n",
    "linreg = LinearRegression()\n",
    "\n",
    "# Fit the data onto training data\n",
    "linreg.fit(X_train, y_train)\n",
    "\n",
    "# Predict results using test data\n",
    "predictions = linreg.predict(X_test)"
   ]
  },
  {
   "cell_type": "markdown",
   "metadata": {},
   "source": [
    "## Part 2: Metrics\n",
    "\n",
    "As mentioned above, we compare the predictions against the y values of test data. How do we know if a regression model is good? This is where metrics come in.\n",
    "\n",
    "There are mainly three kinds of metrics:\n",
    "1. Mean Squared Error (MSE) - euclidean distance between the predicted and actual data, squared\n",
    "2. Mean Average Error (MAE) - \n",
    "3. Root Mean Squared Error (RMSE) - MSE, but squared root!\n",
    "\n",
    "Depending on what you want to measure from your regression model, you will have to pick the metrics carefully."
   ]
  },
  {
   "cell_type": "code",
   "execution_count": null,
   "metadata": {},
   "outputs": [],
   "source": [
    "# Insert code here"
   ]
  },
  {
   "cell_type": "markdown",
   "metadata": {},
   "source": [
    "## Part 3: Hyperparameter Tuning\n",
    "\n",
    "Hyperparameters are parameters of the model that you can tune. For linear regression, there isn't that much you can tune, but do take note that for other models that are a little more complicated, tuning the hyperparameters will often yield better results.\n",
    "\n",
    "Regardless, I will introduce two methods of hyperparameter tuning here so you have a taste of hyperparameter tuning! THe two methods are GridSearchCv and RandomisedSearchCV.\n",
    "\n",
    "GridSearchCV essentially tries every combination of hyperparameters you feed it, and will give you the best parameters from there. Meanwhile, RandomisedSearchCV picks hyperparameters at random and will give you the best parameters from the hyperparameters estimated. \n",
    "\n",
    "MISCONCEPTION: Some might think that GridSearchCV is a lot of better than RandomisedSearchCV, but that's not actually the case as RandomisedSearchCV utilises statistical methods to pick things at \"random\", which yield pretty similar results to GridSearchCV. However, if you are training over a small combination of hyperparameters, I would recommend GridSearchCV."
   ]
  },
  {
   "cell_type": "code",
   "execution_count": 1,
   "metadata": {},
   "outputs": [],
   "source": [
    "# Insert code here"
   ]
  },
  {
   "cell_type": "markdown",
   "metadata": {},
   "source": [
    "## Part 4: Further reading\n",
    "\n",
    "For this lesson, I will be going through the simplest regression model, which is Linear Regression. If you're interested in other kinds of regressions, do know that state-of-the-art methods can do regressions too! But if you're looking for something a little bit more traditional, do read up on:\n",
    "\n",
    "- Lasso Regression\n",
    "- Ridge Regression\n",
    "- Elastic Net Regression \n",
    "\n",
    "You may or may not use these in your projects, but you will have to explain how these differ from the normal linear regression - you have been warned.\n",
    "\n",
    "See you next lesson :) "
   ]
  },
  {
   "cell_type": "markdown",
   "metadata": {},
   "source": []
  }
 ],
 "metadata": {
  "kernelspec": {
   "display_name": "Python 3",
   "language": "python",
   "name": "python3"
  },
  "language_info": {
   "codemirror_mode": {
    "name": "ipython",
    "version": 3
   },
   "file_extension": ".py",
   "mimetype": "text/x-python",
   "name": "python",
   "nbconvert_exporter": "python",
   "pygments_lexer": "ipython3",
   "version": "3.8.10"
  },
  "orig_nbformat": 4
 },
 "nbformat": 4,
 "nbformat_minor": 2
}
