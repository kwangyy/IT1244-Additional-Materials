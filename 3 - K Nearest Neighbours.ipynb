{
 "cells": [
  {
   "cell_type": "markdown",
   "metadata": {},
   "source": [
    "# Supplementary Materials Lesson 3: K Nearest Neighbours\n",
    "From here onwards, it will be micro-lessons on models. We will tackle the first ML model learnt in IT1244 called K Nearest Neighbours. It is known as the simplest machine learning model, and for good reason! \n",
    "\n",
    "I like it for different reasons. Read the first letter of each word. You're welcome. xd"
   ]
  },
  {
   "cell_type": "code",
   "execution_count": 1,
   "metadata": {},
   "outputs": [],
   "source": [
    "# Pre-load some stuff, mainly some datasets from scikitlearn \n",
    "import pandas as pd \n",
    "\n",
    "water = pd.read_csv(\"data/water_cleaned.csv\", index_col =\"Unnamed: 0\")\n",
    "\n",
    "# Let's split the data into X and y \n",
    "X = water.drop(\"Potability\", axis = 1)\n",
    "y = water[\"Potability\"]\n"
   ]
  },
  {
   "cell_type": "markdown",
   "metadata": {},
   "source": [
    "## Part 1: Initialisation of models\n",
    "\n",
    "By this part, you should have learnt how to manipulate data in Pandas (with the other supplementary materials) or with NumPy. \n",
    "\n",
    "The workflow of models usually goes like this:\n",
    "1. Find the model from sklearn - it's usually in a separate library\n",
    "2. do a train test split on the data (80/20? 70/30? up to you)\n",
    "3. fit the data onto the training data\n",
    "4. predict the results using the test data \n",
    "5. compare the predictions against the y values of test data\n",
    "\n",
    "How do we apply this for k-nearest neighbours?"
   ]
  },
  {
   "cell_type": "code",
   "execution_count": 22,
   "metadata": {},
   "outputs": [],
   "source": [
    "# K-Nearest Neighbours is taken from sklearn.linear_model\n",
    "# train_test_Ssplit is taken from skmodel.model_selection\n",
    "\n",
    "from sklearn.neighbors import KNeighborsClassifier \n",
    "from sklearn.model_selection import train_test_split\n",
    "\n",
    "# We will then split the data into different datasets\n",
    "X_train, X_test, y_train, y_test = train_test_split(X, y, test_size=0.3, random_state=42)\n",
    "\n",
    "# Save the model into a variable \n",
    "knn = KNeighborsClassifier ()\n",
    "\n",
    "# Fit the data onto training data\n",
    "knn.fit(X_train, y_train)\n",
    "\n",
    "# Predict results using test data\n",
    "predictions = knn.predict(X_test)"
   ]
  },
  {
   "cell_type": "markdown",
   "metadata": {},
   "source": [
    "## Part 2: Metrics\n",
    "\n",
    "In this lesson, we will just introduce the concept of accuracy to you! There are a LOT more metrics to classification problems, but we will save the rest for another lesson.\n",
    "\n",
    "Accuracy is basically the number of True Positives and True Negatives over the number of datapoints used for testing.\n",
    "\n",
    "It is the simplest metric to implement, but it is not the best metric to use. Regardless, it is good for different reasons. This will be discussed more in future lessons!"
   ]
  },
  {
   "cell_type": "code",
   "execution_count": 23,
   "metadata": {},
   "outputs": [
    {
     "data": {
      "text/plain": [
       "0.5483214649033571"
      ]
     },
     "execution_count": 23,
     "metadata": {},
     "output_type": "execute_result"
    }
   ],
   "source": [
    "from sklearn.metrics import accuracy_score\n",
    "\n",
    "accuracy = accuracy_score(y_test, predictions)\n",
    "accuracy"
   ]
  },
  {
   "cell_type": "markdown",
   "metadata": {},
   "source": [
    "Really short lesson, just to introduce you on the implementation of K Nearest Neighbours! \n",
    "\n",
    "Is it super accurate? Not really. But that's alright. A lot more to come for sure :)"
   ]
  }
 ],
 "metadata": {
  "kernelspec": {
   "display_name": "Python 3",
   "language": "python",
   "name": "python3"
  },
  "language_info": {
   "codemirror_mode": {
    "name": "ipython",
    "version": 3
   },
   "file_extension": ".py",
   "mimetype": "text/x-python",
   "name": "python",
   "nbconvert_exporter": "python",
   "pygments_lexer": "ipython3",
   "version": "3.11.1"
  },
  "orig_nbformat": 4
 },
 "nbformat": 4,
 "nbformat_minor": 2
}
