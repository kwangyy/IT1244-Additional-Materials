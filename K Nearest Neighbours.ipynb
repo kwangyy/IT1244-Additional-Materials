{
 "cells": [
  {
   "cell_type": "markdown",
   "metadata": {},
   "source": [
    "# Supplementary Materials Part 3:\n",
    "From here onwards, it will be micro-lessons on models. We will tackle the first ML model learnt in IT1244 called K-Nearest Neighbours. It is known as the simplest machine learning model, and for good reason! \n",
    "\n",
    "I like it for different reasons. Read the first letter of each word. You're welcome. xd"
   ]
  },
  {
   "cell_type": "markdown",
   "metadata": {},
   "source": [
    "## Part 1: Initialisation of models\n",
    "\n",
    "By this part, you should have learnt how to manipulate data in Pandas (with the other supplementary materials) or with NumPy. \n",
    "\n",
    "The workflow of models usually goes like this:\n",
    "1. Find the model from sklearn - it's usually in a separate library\n",
    "2. do a train test split on the data (80/20? 70/30? up to you)\n",
    "3. fit the data onto the training data\n",
    "4. predict the results using the test data \n",
    "5. compare the predictions against the y values of test data\n",
    "\n",
    "How do we apply this for k-nearest neighbours?"
   ]
  },
  {
   "cell_type": "code",
   "execution_count": null,
   "metadata": {},
   "outputs": [],
   "source": []
  },
  {
   "cell_type": "markdown",
   "metadata": {},
   "source": [
    "## Part 2: Metrics\n",
    "\n",
    "In this lesson, we will just introduce the concept of accuracy to you! There are a LOT more metrics to classification problems, but we will save the rest for another lesson.\n",
    "\n",
    "Accuracy is basically the number of True Positives and True Negatives over the number of datapoints used for testing.\n",
    "\n",
    "It is the simplest metric to implement, but it is not the most straightforward to implement. This will be discussed more in future lessons!"
   ]
  },
  {
   "cell_type": "markdown",
   "metadata": {},
   "source": []
  }
 ],
 "metadata": {
  "language_info": {
   "name": "python"
  },
  "orig_nbformat": 4
 },
 "nbformat": 4,
 "nbformat_minor": 2
}
