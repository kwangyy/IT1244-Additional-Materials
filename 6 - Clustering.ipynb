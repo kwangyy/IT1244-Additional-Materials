{
 "cells": [
  {
   "cell_type": "markdown",
   "metadata": {},
   "source": [
    "# Supplementary Materials Part 6: K-Means Clustering\n",
    "\n",
    "We will tackle the second last ML model learnt in IT1244 called Linear Regression. This is the basic building block for clustering problems."
   ]
  },
  {
   "cell_type": "code",
   "execution_count": 2,
   "metadata": {},
   "outputs": [],
   "source": [
    "# We don't actually have a dataset here LOL but run this with any dataset\n",
    "\n",
    "from sklearn.cluster import KMeans\n",
    "import numpy as np \n",
    "import matplotlib.pyplot as plt\n",
    "\n",
    "def kmeans_elbow(df):\n",
    "    error = [] \n",
    "\n",
    "    for i in range(2, 20):\n",
    "        # We initialise this with k-means++ instead of normal k-means\n",
    "        kmeans = KMeans(n_clusters = i, init = 'k-means++', max_iter = 300, random_state = 42)\n",
    "        kmeans.fit(df)\n",
    "\n",
    "        # inertia method returns WSS for that model\n",
    "        error.append(kmeans.inertia_)\n",
    "\n",
    "    error = np.array(error)\n",
    "    plt.plot(error)\n",
    "    plt.title('Elbow Method')\n",
    "    return \n",
    "\n",
    "# kmeans_elbow(df)"
   ]
  },
  {
   "cell_type": "markdown",
   "metadata": {},
   "source": [
    "There's not much to this, you've actually already learnt this in class.\n",
    "\n",
    "I will not be covering Deep Learning models - that's something for you to discover :p \n",
    "\n",
    "Thank you for going through these supplementary materials, and all the best with your project!"
   ]
  }
 ],
 "metadata": {
  "kernelspec": {
   "display_name": "Python 3",
   "language": "python",
   "name": "python3"
  },
  "language_info": {
   "codemirror_mode": {
    "name": "ipython",
    "version": 3
   },
   "file_extension": ".py",
   "mimetype": "text/x-python",
   "name": "python",
   "nbconvert_exporter": "python",
   "pygments_lexer": "ipython3",
   "version": "3.11.1"
  },
  "orig_nbformat": 4
 },
 "nbformat": 4,
 "nbformat_minor": 2
}
