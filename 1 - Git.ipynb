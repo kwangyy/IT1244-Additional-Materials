{
 "cells": [
  {
   "cell_type": "markdown",
   "metadata": {},
   "source": [
    "# Introduction & Supplementary Materials Lesson 1: Git\n",
    "Hi everyone! This is meant to be supplementary material to the IT1244 course. Obviously there will be some overlap to the main lectures - please watch those - but these materials are more for you to learn how to implement your project (and eventually, real life projects if you're going that route).\n",
    "\n",
    "### Why are you doing this?\n",
    "I realise that people oftentimes do not know what they're doing in IT1244, and they require additional help. Therefore, this is something that I have decided to invest in.\n",
    "\n",
    "In a way, this is also me trying to show off my Data Science knowledge to employers. It's a win-win. (Not really! But I believe in educating people, so I have decided to create my own materials.) \n",
    "\n",
    "### Are these materials compulsory to do? Will you go through these in class?\n",
    "No - they are not. I will also not go through these in class, but I will be willing to discuss anything from these supplementary materials if needed be! \n",
    "\n",
    "### Do I have to do this in order?\n",
    "For the most part, yes. These assignments presume the previous assignment(s) and the knowledge imparted from these. I assure you however, that I will make it as simple as possible.\n",
    "\n",
    "You can, however, skip the additional models section if needed be especially because: \n",
    "1. You'll need to explain some of these models in your Q&A section - can you? \n",
    "2. The models that are featured can be good enough!\n",
    "\n",
    "### How can I contribute to this repo?\n",
    "1. Star it! It gives me more visibility and it also allows easy access for you.\n",
    "2. If you'd like to add to the repo, you can send me a message on my [Telegram @foodfoundations](https://t.me/foodfoundations) (might change) or you can always contact me on [Linkedin (will never change)](https://www.linkedin.com/in/kwang-yang-chia/). We can discuss before you create any content!\n",
    "3. Give feedback to prof about my efforts so that this could be integrated into the IT1244 curriculum itself :p\n",
    "\n",
    "### Any other questions? \n",
    "You know where to find me. All the best in this module!\n",
    "\n",
    "--------------------------------------"
   ]
  },
  {
   "cell_type": "markdown",
   "metadata": {},
   "source": [
    "## Lesson 1: Intro to Git\n",
    "\n",
    "### What is Git?\n",
    "In a nutshell, Git is a system that helps you coordinate work (relating to code) with your other teammates. It's not real time like any of the Google Drive products, but it's a lot more convenient.\n",
    "\n",
    "### Why do you need Git? \n",
    "You don't! You could use Google Colab for collaborating with your teammates, but there are some problems with Colab:\n",
    "\n",
    "- You have to work online all the time, which is not ideal\n",
    "- Only one person can edit the code at one time, if not the changes won't reflect :( \n",
    "\n",
    "There are probably more, but I'm not the biggest fan of Colab so I don't know other cons. I don't know of any other solutions that are less tedious than Colab, so Git is your second best option.\n",
    "\n",
    "### I heard that Git can be really tedious, is that true?\n",
    "I will admit that it's pretty scary to beginners, but if you're looking to get a job in the Data Science space (or anything software related, really), Git is a very useful tool to use. Also, we will be using GitHub Desktop to make things a lot easier.\n",
    "\n",
    "Personally, if you're fine with using other software, it's cool! Not a problem. But if you want to do the exercises I have written here, you definitely need to use git so that you can clone my repo.\n",
    "\n",
    "-----------------------------------"
   ]
  },
  {
   "cell_type": "markdown",
   "metadata": {},
   "source": [
    "Things you need: \n",
    "- A GitHub account (Tip: You can use your student email to get the student pack, if you're looking for more credits and other things like that)\n",
    "- GitHub Desktop downloaded and authenticated - it should pop up for you!\n",
    "- Git downloaded - link [here](https://git-scm.com/downloads)\n",
    "\n",
    "---------------------------"
   ]
  },
  {
   "cell_type": "markdown",
   "metadata": {},
   "source": [
    "### How to create a repo: \n",
    "Let's get started with creating a repo. \n",
    "\n",
    "1. Under \"File\", create a new repository and fill up the details. You can safely ignore Git ignore and License, and you can add in a README if you want to provide more details for your repo. \n",
    "2. You can start coding in your repo (or don't!) - just look out for \"Open the repository in your external editor\". \n",
    "3. Once you are done with everything, you need to commit the changes to main, writing a summary of what you've done. \n",
    "4. Publish the repo to GitHub. You can choose whether to keep the code public or private.\n",
    "\n",
    "------------------------------"
   ]
  },
  {
   "cell_type": "markdown",
   "metadata": {},
   "source": [
    "### How to start sharing with your teammates:\n",
    "\n",
    "Now that you have created a repo, you need to start sharing the repo with your teammates.\n",
    "\n",
    "1. Go to settings - it is the last tab on the top of the page.\n",
    "2. Click on collaborators - there might be some authentication or things like that, go through the authentication\n",
    "3. Add people under collaborators and search by username.\n",
    "4. They have to accept the invite, but you're done.\n",
    "\n",
    "------------------------------"
   ]
  },
  {
   "cell_type": "markdown",
   "metadata": {},
   "source": [
    "### How do I clone a repo?\n",
    "\n",
    "You probably need to clone a repo so that you are able to code on the repo that your teammates have shared with you. \n",
    "\n",
    "1. Click on the green button \"Code\" in the repo.\n",
    "2. Open with GitHub Desktop.\n",
    "3. Done! \n",
    "\n",
    "(It's really simple to clone a repo, actually. But it's not easy to merge everything... Will be explained below) \n",
    "\n",
    "----------------------------"
   ]
  },
  {
   "cell_type": "markdown",
   "metadata": {},
   "source": [
    "### Branching\n",
    "We will need to create a branch so that we can resolve conflicts easily, otherwise it will be really messy.\n",
    "\n",
    "### How do I branch? \n",
    "1. Under current branch, create a new branch with your name.\n",
    "2. Continue coding!\n",
    "\n",
    "------------------"
   ]
  },
  {
   "cell_type": "markdown",
   "metadata": {},
   "source": [
    "### Merging repos\n",
    "Merging repos is easy if everyone is (essentially) on the same page. However, when everyone is working on different things, it might lead to having to resolving conflicts on GitHub. Regardless, it is from there that you decide what code to replace, and merge accordingly.\n",
    "\n",
    "1. Commit to your own branch.\n",
    "2. Open a pull request to merge into the main branch!\n",
    "3. If it says \"able to merge\", you just need to create the pull request and it'll be ok.\n",
    "4. If it says otherwise, you will need to decide what code to replace so that your branch will be able to merge with the main repo. Create a pull request after.\n",
    "5. Merge the pull request, and confirm the merge!\n",
    "\n",
    "----------------------"
   ]
  },
  {
   "cell_type": "markdown",
   "metadata": {},
   "source": [
    "### Forking repos\n",
    "This is a slightly bigger section, mainly because I'm going to explain what the difference between cloning and forking is.\n",
    "\n",
    "### What is the difference betwen cloning and forking? \n",
    "Essentially cloning makes a local copy of a repo, while forking creates your own copy of a repo in a remote location. This means that if you want to edit the code for your own perusal (like these notebooks), you probably want to fork instead of cloning.\n",
    "\n",
    "### Ok, how do I fork?\n",
    "1. On the top right of the repo, there should be a button called \"Fork\". Click that\n",
    "2. Choose an owner, and rewrite the repo name if needed be.\n",
    "3. You can add a new description for your repo \n",
    "4. Create the fork! \n",
    "\n",
    "--------------------"
   ]
  },
  {
   "cell_type": "markdown",
   "metadata": {},
   "source": [
    "### Further reading:\n",
    "There's a lot more to git, but this is all you need for this module :) I know it might seem daunting, but take your time to learn this tool and you will be rewarded.\n",
    "\n",
    "If you are interested in more git stuff, here's some more resources:\n",
    "- [NUS Hackers has a pretty good intro for their Hackerschool!](https://hackerschool-git.github.io/slides-2120/)\n",
    "- [If you want to learn from MIT, here's a link!](https://missing.csail.mit.edu/2020/version-control/)\n",
    "\n",
    "That's all for now :) Congrats on finishing the first lesson!"
   ]
  }
 ],
 "metadata": {
  "language_info": {
   "name": "python"
  },
  "orig_nbformat": 4
 },
 "nbformat": 4,
 "nbformat_minor": 2
}
